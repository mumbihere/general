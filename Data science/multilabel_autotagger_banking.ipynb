{
 "cells": [
  {
   "cell_type": "markdown",
   "metadata": {},
   "source": [
    "## Multi-Label Auto-Tagger (Banking)\n",
    "\n",
    "This script is used to create the default banking classifier. \n",
    "\n",
    "### Automatic Comment tagging\n",
    "\n",
    "The purpose of this document is to create an automated tagging system that tags a comment as belonging to a small set of predetermined categories.\n",
    "Once comment can have multiple tags hence the multilabeling approach.\n",
    "\n",
    "\n",
    "Example: {'Fantastic meals....quite good service':['food','service']}\n"
   ]
  },
  {
   "cell_type": "code",
   "execution_count": 18,
   "metadata": {},
   "outputs": [],
   "source": [
    "###Importations\n",
    "import numpy as np\n",
    "import pandas as pd\n",
    "from sklearn.feature_extraction.text import CountVectorizer,TfidfTransformer\n",
    "from sklearn.utils import shuffle\n",
    "from sklearn import metrics\n",
    "\n",
    "from sklearn.feature_extraction.text import CountVectorizer\n",
    "from sklearn.feature_extraction.text import TfidfTransformer\n",
    "from sklearn.naive_bayes import MultinomialNB\n",
    "from sklearn.preprocessing import MultiLabelBinarizer\n",
    "\n",
    "import re\n",
    "import matplotlib\n",
    "import numpy as np\n",
    "import matplotlib.pyplot as plt\n",
    "import pandas as pd\n",
    "from sklearn.model_selection import train_test_split\n",
    "from sklearn.feature_extraction.text import TfidfVectorizer\n",
    "from sklearn.naive_bayes import MultinomialNB\n",
    "from sklearn.metrics import accuracy_score\n",
    "from sklearn.multiclass import OneVsRestClassifier\n",
    "from nltk.corpus import stopwords\n",
    "stop_words = set(stopwords.words('english'))\n",
    "from sklearn.pipeline import Pipeline\n",
    "import seaborn as sns\n",
    "from xgboost.sklearn import XGBClassifier\n",
    "import pickle"
   ]
  },
  {
   "cell_type": "markdown",
   "metadata": {},
   "source": [
    "## Train"
   ]
  },
  {
   "cell_type": "markdown",
   "metadata": {},
   "source": [
    "#### a.) Load the Data"
   ]
  },
  {
   "cell_type": "code",
   "execution_count": 2,
   "metadata": {},
   "outputs": [
    {
     "data": {
      "text/html": [
       "<div>\n",
       "<style scoped>\n",
       "    .dataframe tbody tr th:only-of-type {\n",
       "        vertical-align: middle;\n",
       "    }\n",
       "\n",
       "    .dataframe tbody tr th {\n",
       "        vertical-align: top;\n",
       "    }\n",
       "\n",
       "    .dataframe thead th {\n",
       "        text-align: right;\n",
       "    }\n",
       "</style>\n",
       "<table border=\"1\" class=\"dataframe\">\n",
       "  <thead>\n",
       "    <tr style=\"text-align: right;\">\n",
       "      <th></th>\n",
       "      <th>commid</th>\n",
       "      <th>bank</th>\n",
       "      <th>rating</th>\n",
       "      <th>comment</th>\n",
       "      <th>theme</th>\n",
       "    </tr>\n",
       "  </thead>\n",
       "  <tbody>\n",
       "    <tr>\n",
       "      <th>0</th>\n",
       "      <td>254722829561</td>\n",
       "      <td>I&amp;M Bank</td>\n",
       "      <td>NaN</td>\n",
       "      <td>Efficient service</td>\n",
       "      <td>service</td>\n",
       "    </tr>\n",
       "    <tr>\n",
       "      <th>1</th>\n",
       "      <td>254722829561</td>\n",
       "      <td>I&amp;M Bank</td>\n",
       "      <td>NaN</td>\n",
       "      <td>Efficient service</td>\n",
       "      <td>speed/efficiency</td>\n",
       "    </tr>\n",
       "    <tr>\n",
       "      <th>2</th>\n",
       "      <td>254722727743</td>\n",
       "      <td>CBA</td>\n",
       "      <td>3.0</td>\n",
       "      <td>(1) not all your customer care staff know the ...</td>\n",
       "      <td>account</td>\n",
       "    </tr>\n",
       "    <tr>\n",
       "      <th>3</th>\n",
       "      <td>254722727743</td>\n",
       "      <td>CBA</td>\n",
       "      <td>3.0</td>\n",
       "      <td>(1) not all your customer care staff know the ...</td>\n",
       "      <td>facilities</td>\n",
       "    </tr>\n",
       "    <tr>\n",
       "      <th>4</th>\n",
       "      <td>254722727743</td>\n",
       "      <td>CBA</td>\n",
       "      <td>3.0</td>\n",
       "      <td>(1) not all your customer care staff know the ...</td>\n",
       "      <td>service</td>\n",
       "    </tr>\n",
       "  </tbody>\n",
       "</table>\n",
       "</div>"
      ],
      "text/plain": [
       "         commid      bank  rating  \\\n",
       "0  254722829561  I&M Bank     NaN   \n",
       "1  254722829561  I&M Bank     NaN   \n",
       "2  254722727743       CBA     3.0   \n",
       "3  254722727743       CBA     3.0   \n",
       "4  254722727743       CBA     3.0   \n",
       "\n",
       "                                             comment             theme  \n",
       "0                                  Efficient service           service  \n",
       "1                                  Efficient service  speed/efficiency  \n",
       "2  (1) not all your customer care staff know the ...           account  \n",
       "3  (1) not all your customer care staff know the ...        facilities  \n",
       "4  (1) not all your customer care staff know the ...           service  "
      ]
     },
     "execution_count": 2,
     "metadata": {},
     "output_type": "execute_result"
    }
   ],
   "source": [
    "csvdata = pd.read_csv('datasets/banking.csv')\n",
    "csvdata.head()"
   ]
  },
  {
   "cell_type": "code",
   "execution_count": 3,
   "metadata": {},
   "outputs": [],
   "source": [
    "#Clean up the comments by removing everything that is not a letter, a number of punction\n",
    "\n",
    "z = lambda x: str(re.sub(\"[^a-zA-Z0-9\\s,!.]\", \"\", x)) #Clean up: replace everything that's not a number or a dot with a space\n",
    "csvdata['clean_comments'] = ([z(i) for i in  csvdata['comment']]) #Create a new column with clean data\n"
   ]
  },
  {
   "cell_type": "code",
   "execution_count": 4,
   "metadata": {},
   "outputs": [
    {
     "data": {
      "text/html": [
       "<div>\n",
       "<style scoped>\n",
       "    .dataframe tbody tr th:only-of-type {\n",
       "        vertical-align: middle;\n",
       "    }\n",
       "\n",
       "    .dataframe tbody tr th {\n",
       "        vertical-align: top;\n",
       "    }\n",
       "\n",
       "    .dataframe thead th {\n",
       "        text-align: right;\n",
       "    }\n",
       "</style>\n",
       "<table border=\"1\" class=\"dataframe\">\n",
       "  <thead>\n",
       "    <tr style=\"text-align: right;\">\n",
       "      <th></th>\n",
       "      <th>commid</th>\n",
       "      <th>bank</th>\n",
       "      <th>rating</th>\n",
       "      <th>comment</th>\n",
       "      <th>theme</th>\n",
       "      <th>clean_comments</th>\n",
       "    </tr>\n",
       "  </thead>\n",
       "  <tbody>\n",
       "    <tr>\n",
       "      <th>0</th>\n",
       "      <td>254722829561</td>\n",
       "      <td>I&amp;M Bank</td>\n",
       "      <td>NaN</td>\n",
       "      <td>Efficient service</td>\n",
       "      <td>service</td>\n",
       "      <td>Efficient service</td>\n",
       "    </tr>\n",
       "    <tr>\n",
       "      <th>1</th>\n",
       "      <td>254722829561</td>\n",
       "      <td>I&amp;M Bank</td>\n",
       "      <td>NaN</td>\n",
       "      <td>Efficient service</td>\n",
       "      <td>speed/efficiency</td>\n",
       "      <td>Efficient service</td>\n",
       "    </tr>\n",
       "    <tr>\n",
       "      <th>2</th>\n",
       "      <td>254722727743</td>\n",
       "      <td>CBA</td>\n",
       "      <td>3.0</td>\n",
       "      <td>(1) not all your customer care staff know the ...</td>\n",
       "      <td>account</td>\n",
       "      <td>1 not all your customer care staff know the SO...</td>\n",
       "    </tr>\n",
       "    <tr>\n",
       "      <th>3</th>\n",
       "      <td>254722727743</td>\n",
       "      <td>CBA</td>\n",
       "      <td>3.0</td>\n",
       "      <td>(1) not all your customer care staff know the ...</td>\n",
       "      <td>facilities</td>\n",
       "      <td>1 not all your customer care staff know the SO...</td>\n",
       "    </tr>\n",
       "    <tr>\n",
       "      <th>4</th>\n",
       "      <td>254722727743</td>\n",
       "      <td>CBA</td>\n",
       "      <td>3.0</td>\n",
       "      <td>(1) not all your customer care staff know the ...</td>\n",
       "      <td>service</td>\n",
       "      <td>1 not all your customer care staff know the SO...</td>\n",
       "    </tr>\n",
       "  </tbody>\n",
       "</table>\n",
       "</div>"
      ],
      "text/plain": [
       "         commid      bank  rating  \\\n",
       "0  254722829561  I&M Bank     NaN   \n",
       "1  254722829561  I&M Bank     NaN   \n",
       "2  254722727743       CBA     3.0   \n",
       "3  254722727743       CBA     3.0   \n",
       "4  254722727743       CBA     3.0   \n",
       "\n",
       "                                             comment             theme  \\\n",
       "0                                  Efficient service           service   \n",
       "1                                  Efficient service  speed/efficiency   \n",
       "2  (1) not all your customer care staff know the ...           account   \n",
       "3  (1) not all your customer care staff know the ...        facilities   \n",
       "4  (1) not all your customer care staff know the ...           service   \n",
       "\n",
       "                                      clean_comments  \n",
       "0                                  Efficient service  \n",
       "1                                  Efficient service  \n",
       "2  1 not all your customer care staff know the SO...  \n",
       "3  1 not all your customer care staff know the SO...  \n",
       "4  1 not all your customer care staff know the SO...  "
      ]
     },
     "execution_count": 4,
     "metadata": {},
     "output_type": "execute_result"
    }
   ],
   "source": [
    "csvdata.head()"
   ]
  },
  {
   "cell_type": "code",
   "execution_count": 5,
   "metadata": {},
   "outputs": [
    {
     "data": {
      "text/html": [
       "<div>\n",
       "<style scoped>\n",
       "    .dataframe tbody tr th:only-of-type {\n",
       "        vertical-align: middle;\n",
       "    }\n",
       "\n",
       "    .dataframe tbody tr th {\n",
       "        vertical-align: top;\n",
       "    }\n",
       "\n",
       "    .dataframe thead th {\n",
       "        text-align: right;\n",
       "    }\n",
       "</style>\n",
       "<table border=\"1\" class=\"dataframe\">\n",
       "  <thead>\n",
       "    <tr style=\"text-align: right;\">\n",
       "      <th></th>\n",
       "      <th>commid</th>\n",
       "      <th>bank</th>\n",
       "      <th>rating</th>\n",
       "      <th>comment</th>\n",
       "      <th>theme</th>\n",
       "      <th>clean_comments</th>\n",
       "      <th>theme_categories</th>\n",
       "    </tr>\n",
       "  </thead>\n",
       "  <tbody>\n",
       "    <tr>\n",
       "      <th>0</th>\n",
       "      <td>254722829561</td>\n",
       "      <td>I&amp;M Bank</td>\n",
       "      <td>NaN</td>\n",
       "      <td>Efficient service</td>\n",
       "      <td>service</td>\n",
       "      <td>Efficient service</td>\n",
       "      <td>10</td>\n",
       "    </tr>\n",
       "    <tr>\n",
       "      <th>1</th>\n",
       "      <td>254722829561</td>\n",
       "      <td>I&amp;M Bank</td>\n",
       "      <td>NaN</td>\n",
       "      <td>Efficient service</td>\n",
       "      <td>speed/efficiency</td>\n",
       "      <td>Efficient service</td>\n",
       "      <td>11</td>\n",
       "    </tr>\n",
       "    <tr>\n",
       "      <th>2</th>\n",
       "      <td>254722727743</td>\n",
       "      <td>CBA</td>\n",
       "      <td>3.0</td>\n",
       "      <td>(1) not all your customer care staff know the ...</td>\n",
       "      <td>account</td>\n",
       "      <td>1 not all your customer care staff know the SO...</td>\n",
       "      <td>1</td>\n",
       "    </tr>\n",
       "    <tr>\n",
       "      <th>3</th>\n",
       "      <td>254722727743</td>\n",
       "      <td>CBA</td>\n",
       "      <td>3.0</td>\n",
       "      <td>(1) not all your customer care staff know the ...</td>\n",
       "      <td>facilities</td>\n",
       "      <td>1 not all your customer care staff know the SO...</td>\n",
       "      <td>3</td>\n",
       "    </tr>\n",
       "    <tr>\n",
       "      <th>4</th>\n",
       "      <td>254722727743</td>\n",
       "      <td>CBA</td>\n",
       "      <td>3.0</td>\n",
       "      <td>(1) not all your customer care staff know the ...</td>\n",
       "      <td>service</td>\n",
       "      <td>1 not all your customer care staff know the SO...</td>\n",
       "      <td>10</td>\n",
       "    </tr>\n",
       "  </tbody>\n",
       "</table>\n",
       "</div>"
      ],
      "text/plain": [
       "         commid      bank  rating  \\\n",
       "0  254722829561  I&M Bank     NaN   \n",
       "1  254722829561  I&M Bank     NaN   \n",
       "2  254722727743       CBA     3.0   \n",
       "3  254722727743       CBA     3.0   \n",
       "4  254722727743       CBA     3.0   \n",
       "\n",
       "                                             comment             theme  \\\n",
       "0                                  Efficient service           service   \n",
       "1                                  Efficient service  speed/efficiency   \n",
       "2  (1) not all your customer care staff know the ...           account   \n",
       "3  (1) not all your customer care staff know the ...        facilities   \n",
       "4  (1) not all your customer care staff know the ...           service   \n",
       "\n",
       "                                      clean_comments  theme_categories  \n",
       "0                                  Efficient service                10  \n",
       "1                                  Efficient service                11  \n",
       "2  1 not all your customer care staff know the SO...                 1  \n",
       "3  1 not all your customer care staff know the SO...                 3  \n",
       "4  1 not all your customer care staff know the SO...                10  "
      ]
     },
     "execution_count": 5,
     "metadata": {},
     "output_type": "execute_result"
    }
   ],
   "source": [
    "#Add an extra column for themes as a category\n",
    "#Label encoding to represent each of the theme classes as numbers\n",
    "theme_categories = csvdata['theme'].astype('category') #1. We first convert the column into a category\n",
    "csvdata['theme_categories']  = theme_categories.cat.codes #2. assign the encoded variable to a new column using the cat.codes\n",
    "target_names = list(theme_categories.cat.categories)\n",
    "csvdata.head()"
   ]
  },
  {
   "cell_type": "code",
   "execution_count": 6,
   "metadata": {},
   "outputs": [
    {
     "data": {
      "text/plain": [
       "speed/efficiency             4926\n",
       "service                      4648\n",
       "accessibility                2611\n",
       "staff                        1516\n",
       "atm                          1374\n",
       "account                      1274\n",
       "mobile_banking               1176\n",
       "system                        768\n",
       "rates/charges                 624\n",
       "facilities                    606\n",
       "security                      531\n",
       "online_banking                434\n",
       "loan                          294\n",
       "information/communication     283\n",
       "Name: theme, dtype: int64"
      ]
     },
     "execution_count": 6,
     "metadata": {},
     "output_type": "execute_result"
    }
   ],
   "source": [
    "# df = pd.Series(csvdata)\n",
    "# df.describe()\n",
    "\n",
    "csvdata.describe()\n",
    "csvdata['theme'].value_counts()\n"
   ]
  },
  {
   "cell_type": "code",
   "execution_count": 7,
   "metadata": {},
   "outputs": [
    {
     "data": {
      "text/plain": [
       "(['accessibility',\n",
       "  'account',\n",
       "  'atm',\n",
       "  'facilities',\n",
       "  'information/communication',\n",
       "  'loan',\n",
       "  'mobile_banking',\n",
       "  'online_banking',\n",
       "  'rates/charges',\n",
       "  'security',\n",
       "  'service',\n",
       "  'speed/efficiency',\n",
       "  'staff',\n",
       "  'system'],\n",
       " 14)"
      ]
     },
     "execution_count": 7,
     "metadata": {},
     "output_type": "execute_result"
    }
   ],
   "source": [
    "target_names, len(target_names)"
   ]
  },
  {
   "cell_type": "code",
   "execution_count": 8,
   "metadata": {},
   "outputs": [],
   "source": [
    "processed_data = {}\n",
    "\n",
    "for row in csvdata.iterrows():\n",
    "    if row[1]['comment']  in processed_data.keys():  \n",
    "        processed_data[row[1]['comment']].append(row[1]['theme_categories'])\n",
    "    else:\n",
    "        processed_data[row[1]['comment']] = [row[1]['theme_categories']]\n",
    "        \n"
   ]
  },
  {
   "cell_type": "code",
   "execution_count": 9,
   "metadata": {},
   "outputs": [
    {
     "data": {
      "text/plain": [
       "(11628, 14)"
      ]
     },
     "execution_count": 9,
     "metadata": {},
     "output_type": "execute_result"
    }
   ],
   "source": [
    "my_data = {}\n",
    "my_data['data'] = processed_data.keys()\n",
    "my_data['target'] = processed_data.values()\n",
    "\n",
    "X = my_data['data']\n",
    "y = MultiLabelBinarizer().fit_transform(processed_data.values())\n",
    "y.shape\n"
   ]
  },
  {
   "cell_type": "code",
   "execution_count": 10,
   "metadata": {},
   "outputs": [],
   "source": [
    "X_train, X_test, y_train, y_test = train_test_split(list(X), y, test_size=0.30, random_state=42,shuffle=True )"
   ]
  },
  {
   "cell_type": "markdown",
   "metadata": {},
   "source": [
    "Try out some classifiers:\n",
    "1. Logistic Regression\n",
    "2. Random Forest\n",
    "3. SVM\n",
    "4. Multinomial Naives Bayes\n",
    "5. XGBoost\n",
    "\n",
    "### Logistic Regression Classifier"
   ]
  },
  {
   "cell_type": "code",
   "execution_count": 11,
   "metadata": {},
   "outputs": [
    {
     "name": "stdout",
     "output_type": "stream",
     "text": [
      "... Processing\n",
      "Test accuracy is 0.7916308397821725\n"
     ]
    }
   ],
   "source": [
    "from sklearn.linear_model import LogisticRegression\n",
    "\n",
    "LogReg_pipeline = Pipeline([\n",
    "                ('tfidf', TfidfVectorizer(stop_words=stop_words)),\n",
    "                ('clf', OneVsRestClassifier(LogisticRegression(solver='sag'), n_jobs=1)),\n",
    "            ])\n",
    "print('... Processing')\n",
    "LogReg_pipeline.fit(X_train, y_train)\n",
    "# compute the testing accuracy\n",
    "prediction = LogReg_pipeline.predict(X_test)\n",
    "print('Test accuracy is {}'.format(accuracy_score(y_test, prediction)))\n"
   ]
  },
  {
   "cell_type": "markdown",
   "metadata": {},
   "source": [
    "### Random Forest Classifier"
   ]
  },
  {
   "cell_type": "code",
   "execution_count": 12,
   "metadata": {},
   "outputs": [],
   "source": [
    "from sklearn.ensemble import RandomForestClassifier\n",
    "from sklearn.datasets import make_classification\n"
   ]
  },
  {
   "cell_type": "code",
   "execution_count": 13,
   "metadata": {},
   "outputs": [
    {
     "name": "stdout",
     "output_type": "stream",
     "text": [
      "... Processing\n"
     ]
    },
    {
     "name": "stderr",
     "output_type": "stream",
     "text": [
      "/Users/monicah/anaconda2/envs/env/lib/python3.7/site-packages/sklearn/ensemble/forest.py:246: FutureWarning: The default value of n_estimators will change from 10 in version 0.20 to 100 in 0.22.\n",
      "  \"10 in version 0.20 to 100 in 0.22.\", FutureWarning)\n",
      "/Users/monicah/anaconda2/envs/env/lib/python3.7/site-packages/sklearn/ensemble/forest.py:246: FutureWarning: The default value of n_estimators will change from 10 in version 0.20 to 100 in 0.22.\n",
      "  \"10 in version 0.20 to 100 in 0.22.\", FutureWarning)\n",
      "/Users/monicah/anaconda2/envs/env/lib/python3.7/site-packages/sklearn/ensemble/forest.py:246: FutureWarning: The default value of n_estimators will change from 10 in version 0.20 to 100 in 0.22.\n",
      "  \"10 in version 0.20 to 100 in 0.22.\", FutureWarning)\n",
      "/Users/monicah/anaconda2/envs/env/lib/python3.7/site-packages/sklearn/ensemble/forest.py:246: FutureWarning: The default value of n_estimators will change from 10 in version 0.20 to 100 in 0.22.\n",
      "  \"10 in version 0.20 to 100 in 0.22.\", FutureWarning)\n",
      "/Users/monicah/anaconda2/envs/env/lib/python3.7/site-packages/sklearn/ensemble/forest.py:246: FutureWarning: The default value of n_estimators will change from 10 in version 0.20 to 100 in 0.22.\n",
      "  \"10 in version 0.20 to 100 in 0.22.\", FutureWarning)\n",
      "/Users/monicah/anaconda2/envs/env/lib/python3.7/site-packages/sklearn/ensemble/forest.py:246: FutureWarning: The default value of n_estimators will change from 10 in version 0.20 to 100 in 0.22.\n",
      "  \"10 in version 0.20 to 100 in 0.22.\", FutureWarning)\n",
      "/Users/monicah/anaconda2/envs/env/lib/python3.7/site-packages/sklearn/ensemble/forest.py:246: FutureWarning: The default value of n_estimators will change from 10 in version 0.20 to 100 in 0.22.\n",
      "  \"10 in version 0.20 to 100 in 0.22.\", FutureWarning)\n",
      "/Users/monicah/anaconda2/envs/env/lib/python3.7/site-packages/sklearn/ensemble/forest.py:246: FutureWarning: The default value of n_estimators will change from 10 in version 0.20 to 100 in 0.22.\n",
      "  \"10 in version 0.20 to 100 in 0.22.\", FutureWarning)\n",
      "/Users/monicah/anaconda2/envs/env/lib/python3.7/site-packages/sklearn/ensemble/forest.py:246: FutureWarning: The default value of n_estimators will change from 10 in version 0.20 to 100 in 0.22.\n",
      "  \"10 in version 0.20 to 100 in 0.22.\", FutureWarning)\n",
      "/Users/monicah/anaconda2/envs/env/lib/python3.7/site-packages/sklearn/ensemble/forest.py:246: FutureWarning: The default value of n_estimators will change from 10 in version 0.20 to 100 in 0.22.\n",
      "  \"10 in version 0.20 to 100 in 0.22.\", FutureWarning)\n",
      "/Users/monicah/anaconda2/envs/env/lib/python3.7/site-packages/sklearn/ensemble/forest.py:246: FutureWarning: The default value of n_estimators will change from 10 in version 0.20 to 100 in 0.22.\n",
      "  \"10 in version 0.20 to 100 in 0.22.\", FutureWarning)\n",
      "/Users/monicah/anaconda2/envs/env/lib/python3.7/site-packages/sklearn/ensemble/forest.py:246: FutureWarning: The default value of n_estimators will change from 10 in version 0.20 to 100 in 0.22.\n",
      "  \"10 in version 0.20 to 100 in 0.22.\", FutureWarning)\n",
      "/Users/monicah/anaconda2/envs/env/lib/python3.7/site-packages/sklearn/ensemble/forest.py:246: FutureWarning: The default value of n_estimators will change from 10 in version 0.20 to 100 in 0.22.\n",
      "  \"10 in version 0.20 to 100 in 0.22.\", FutureWarning)\n",
      "/Users/monicah/anaconda2/envs/env/lib/python3.7/site-packages/sklearn/ensemble/forest.py:246: FutureWarning: The default value of n_estimators will change from 10 in version 0.20 to 100 in 0.22.\n",
      "  \"10 in version 0.20 to 100 in 0.22.\", FutureWarning)\n"
     ]
    },
    {
     "name": "stdout",
     "output_type": "stream",
     "text": [
      "Test accuracy is 0.8733161364287761\n"
     ]
    }
   ],
   "source": [
    "RandomForest_pipeline = Pipeline([\n",
    "                ('tfidf', TfidfVectorizer(stop_words=stop_words)),\n",
    "                ('clf', OneVsRestClassifier(RandomForestClassifier(max_depth=150, random_state=0), n_jobs=1)),\n",
    "            ])\n",
    "print('... Processing')\n",
    "RandomForest_pipeline.fit(X_train, y_train)\n",
    "# compute the testing accuracy\n",
    "prediction = RandomForest_pipeline.predict(X_test)\n",
    "print('Test accuracy is {}'.format(accuracy_score(y_test, prediction)))"
   ]
  },
  {
   "cell_type": "markdown",
   "metadata": {},
   "source": [
    "### SVM Classifier"
   ]
  },
  {
   "cell_type": "code",
   "execution_count": 14,
   "metadata": {},
   "outputs": [
    {
     "name": "stdout",
     "output_type": "stream",
     "text": [
      "... Processing\n"
     ]
    },
    {
     "name": "stderr",
     "output_type": "stream",
     "text": [
      "/Users/monicah/anaconda2/envs/env/lib/python3.7/site-packages/sklearn/svm/base.py:196: FutureWarning: The default value of gamma will change from 'auto' to 'scale' in version 0.22 to account better for unscaled features. Set gamma explicitly to 'auto' or 'scale' to avoid this warning.\n",
      "  \"avoid this warning.\", FutureWarning)\n"
     ]
    },
    {
     "name": "stdout",
     "output_type": "stream",
     "text": [
      "Test accuracy is 0.0\n"
     ]
    }
   ],
   "source": [
    "from sklearn import svm\n",
    "\n",
    "SVM_pipeline = Pipeline([\n",
    "                ('tfidf', TfidfVectorizer(stop_words=stop_words)),\n",
    "                ('clf', OneVsRestClassifier(svm.SVC(decision_function_shape='ovo'), n_jobs=1)),\n",
    "            ])\n",
    "print('... Processing')\n",
    "SVM_pipeline.fit(X_train, y_train)\n",
    "# compute the testing accuracy\n",
    "prediction = SVM_pipeline.predict(X_test)\n",
    "print('Test accuracy is {}'.format(accuracy_score(y_test, prediction)))\n"
   ]
  },
  {
   "cell_type": "markdown",
   "metadata": {},
   "source": [
    "### Naives Bayes Classifier"
   ]
  },
  {
   "cell_type": "code",
   "execution_count": 15,
   "metadata": {},
   "outputs": [
    {
     "name": "stdout",
     "output_type": "stream",
     "text": [
      "... Processing\n",
      "Test accuracy is 0.5032960733734595\n"
     ]
    }
   ],
   "source": [
    "from sklearn.naive_bayes import MultinomialNB\n",
    "Naives_pipeline = Pipeline([\n",
    "                ('tfidf', TfidfVectorizer(stop_words=stop_words)),\n",
    "                ('clf', OneVsRestClassifier(MultinomialNB(), n_jobs=1)),\n",
    "            ])\n",
    "print('... Processing')\n",
    "Naives_pipeline.fit(X_train, y_train)\n",
    "# compute the testing accuracy\n",
    "prediction = Naives_pipeline.predict(X_test)\n",
    "print('Test accuracy is {}'.format(accuracy_score(y_test, prediction)))"
   ]
  },
  {
   "cell_type": "markdown",
   "metadata": {},
   "source": [
    "#### XGBoost Classifier"
   ]
  },
  {
   "cell_type": "code",
   "execution_count": 16,
   "metadata": {},
   "outputs": [
    {
     "name": "stdout",
     "output_type": "stream",
     "text": [
      "... Processing\n",
      "Test accuracy is 0.9415305245055889\n"
     ]
    }
   ],
   "source": [
    "classes = len(csvdata['theme'].unique())#number of classes\n",
    "reg_lambda = 2 #XG Boost's L2 regularization term on weights, increasing it makes the model more conservative.default=1\n",
    "\n",
    "\n",
    "XGB_pipeline = Pipeline([\n",
    "                ('tfidf', TfidfVectorizer(stop_words=stop_words)),\n",
    "                ('clf', OneVsRestClassifier(\n",
    "                    XGBClassifier(                  \n",
    "                        objective = \"multi:softmax\", \n",
    "                        seed =27,\n",
    "                        reg_lambda=reg_lambda,\n",
    "                        num_class = classes\n",
    "                ), n_jobs=1)),\n",
    "            ])\n",
    "print('... Processing')\n",
    "XGB_pipeline.fit(X_train, y_train)\n",
    "# compute the testing accuracy\n",
    "prediction = XGB_pipeline.predict(X_test)\n",
    "print('Test accuracy is {}'.format(accuracy_score(y_test, prediction)))\n"
   ]
  },
  {
   "cell_type": "markdown",
   "metadata": {},
   "source": [
    "### Validation"
   ]
  },
  {
   "cell_type": "code",
   "execution_count": 19,
   "metadata": {},
   "outputs": [
    {
     "name": "stdout",
     "output_type": "stream",
     "text": [
      "\n",
      "'Make me understand, why are there 2 teller on duty at kikuyu branch,av been here for close to 1 hr waiting and the lobby is almost full?' ===> ['facilities', 'staff']\n",
      "\n",
      "'I received a text of qualifying for loan but every time I request there are incoveniences' ===> ['speed/efficiency']\n",
      "\n",
      "'I misplaced my ATM' ===> ['atm']\n",
      "\n",
      "\"I am one dissapointed customer lately.Every time I transfer money from Mpesa to my account the transaction is not completed,meaning this cash doesn't hit my account\" ===> ['account', 'mobile_banking', 'service', 'speed/efficiency']\n",
      "\n",
      "'CB mobile app disappointing at its best and when you least expect it. The error message that keeps popping out is not funny' ===> ['mobile_banking']\n",
      "\n",
      "\"Your service is soooooo slow, went to Karen branch no movement for 30 minutes then since was getting late decided to try your ongata Rongai branch, let's just say been here 1 hour but alas....... I hope never to need to visit your branch again in the near future.\" ===> ['facilities', 'service', 'speed/efficiency']\n"
     ]
    }
   ],
   "source": [
    "#Validation using the best classifier \n",
    "comment1 = 'Make me understand, why are there 2 teller on duty at kikuyu branch,av been here for close to 1 hr waiting and the lobby is almost full?' #\n",
    "comment2 = 'I received a text of qualifying for loan but every time I request there are incoveniences'\n",
    "comment3 = 'I misplaced my ATM'\n",
    "comment4 = 'I am one dissapointed customer lately.Every time I transfer money from Mpesa to my account the transaction is not completed,meaning this cash doesn\\'t hit my account'\n",
    "comment5 = 'CB mobile app disappointing at its best and when you least expect it. The error message that keeps popping out is not funny'\n",
    "comment6 = \"Your service is soooooo slow, went to Karen branch no movement for 30 minutes then since was getting late decided to try your ongata Rongai branch, let's just say been here 1 hour but alas....... I hope never to need to visit your branch again in the near future.\"\n",
    "\n",
    "\n",
    "comments_new = [comment1,comment2,comment3,comment4, comment5, comment6]\n",
    "\n",
    "\n",
    "predicted = XGB_pipeline.predict(comments_new)\n",
    "predicted = pd.DataFrame(predicted, columns=target_names)\n",
    "\n",
    "predicted\n",
    "   \n",
    "\n",
    "for tw, category in zip(comments_new, predicted.iterrows()):\n",
    "    themes=[]\n",
    "    for i in range(len(category[1])) :\n",
    "        if category[1][i] == 1:\n",
    "            themes.append(target_names[i])\n",
    "    print('\\n%r ===> %s' % (tw, themes))\n"
   ]
  },
  {
   "cell_type": "markdown",
   "metadata": {},
   "source": [
    "#### Model Persistence"
   ]
  },
  {
   "cell_type": "code",
   "execution_count": 20,
   "metadata": {},
   "outputs": [],
   "source": [
    "filename = 'banking.sav'\n",
    "pickle.dump(XGB_pipeline, open(filename, 'wb'))"
   ]
  },
  {
   "cell_type": "code",
   "execution_count": null,
   "metadata": {},
   "outputs": [],
   "source": []
  }
 ],
 "metadata": {
  "anaconda-cloud": {},
  "kernelspec": {
   "display_name": "Python 3",
   "language": "python",
   "name": "python3"
  },
  "language_info": {
   "codemirror_mode": {
    "name": "ipython",
    "version": 3
   },
   "file_extension": ".py",
   "mimetype": "text/x-python",
   "name": "python",
   "nbconvert_exporter": "python",
   "pygments_lexer": "ipython3",
   "version": "3.7.1"
  }
 },
 "nbformat": 4,
 "nbformat_minor": 1
}
