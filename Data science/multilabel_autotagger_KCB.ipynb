{
 "cells": [
  {
   "cell_type": "markdown",
   "metadata": {},
   "source": [
    "## Multi-Label Auto-Tagger\n",
    "\n",
    "### Automatic Comment tagging\n",
    "\n",
    "The purpose of this document is to create an automated tagging system that tags a comment as belonging to a small set of predetermined categories.\n",
    "Once comment can have multiple tags hence the multilabeling approach.\n",
    "\n",
    "\n",
    "Example: {'Fantastic meals....quite good service':['food','service']}\n"
   ]
  },
  {
   "cell_type": "code",
   "execution_count": 23,
   "metadata": {},
   "outputs": [],
   "source": [
    "###Importations\n",
    "import numpy as np\n",
    "import pandas as pd\n",
    "from sklearn.feature_extraction.text import CountVectorizer,TfidfTransformer\n",
    "from sklearn.utils import shuffle\n",
    "from sklearn import metrics\n",
    "\n",
    "from sklearn.feature_extraction.text import CountVectorizer\n",
    "from sklearn.feature_extraction.text import TfidfTransformer\n",
    "from sklearn.naive_bayes import MultinomialNB\n",
    "from sklearn.preprocessing import MultiLabelBinarizer\n",
    "\n",
    "import re\n",
    "import matplotlib\n",
    "import numpy as np\n",
    "import matplotlib.pyplot as plt\n",
    "import pandas as pd\n",
    "from sklearn.model_selection import train_test_split\n",
    "from sklearn.feature_extraction.text import TfidfVectorizer\n",
    "from sklearn.naive_bayes import MultinomialNB\n",
    "from sklearn.metrics import accuracy_score\n",
    "from sklearn.multiclass import OneVsRestClassifier\n",
    "from nltk.corpus import stopwords\n",
    "stop_words = set(stopwords.words('english'))\n",
    "from sklearn.pipeline import Pipeline\n",
    "import seaborn as sns\n",
    "from xgboost.sklearn import XGBClassifier\n",
    "import pickle"
   ]
  },
  {
   "cell_type": "markdown",
   "metadata": {},
   "source": [
    "## Train"
   ]
  },
  {
   "cell_type": "markdown",
   "metadata": {},
   "source": [
    "#### a.) Load the Data"
   ]
  },
  {
   "cell_type": "code",
   "execution_count": 24,
   "metadata": {},
   "outputs": [
    {
     "data": {
      "text/html": [
       "<div>\n",
       "<style scoped>\n",
       "    .dataframe tbody tr th:only-of-type {\n",
       "        vertical-align: middle;\n",
       "    }\n",
       "\n",
       "    .dataframe tbody tr th {\n",
       "        vertical-align: top;\n",
       "    }\n",
       "\n",
       "    .dataframe thead th {\n",
       "        text-align: right;\n",
       "    }\n",
       "</style>\n",
       "<table border=\"1\" class=\"dataframe\">\n",
       "  <thead>\n",
       "    <tr style=\"text-align: right;\">\n",
       "      <th></th>\n",
       "      <th>commid</th>\n",
       "      <th>rating</th>\n",
       "      <th>comment</th>\n",
       "      <th>theme</th>\n",
       "    </tr>\n",
       "  </thead>\n",
       "  <tbody>\n",
       "    <tr>\n",
       "      <th>0</th>\n",
       "      <td>2.547120e+11</td>\n",
       "      <td>10.0</td>\n",
       "      <td>easy to access through phone, its everywhere ...</td>\n",
       "      <td>Execution_Excellence</td>\n",
       "    </tr>\n",
       "    <tr>\n",
       "      <th>1</th>\n",
       "      <td>2.547120e+11</td>\n",
       "      <td>10.0</td>\n",
       "      <td>easy to access through phone, its everywhere ...</td>\n",
       "      <td>Products_&amp;_Services</td>\n",
       "    </tr>\n",
       "    <tr>\n",
       "      <th>2</th>\n",
       "      <td>2.547120e+11</td>\n",
       "      <td>10.0</td>\n",
       "      <td>easy to access through phone, its everywhere ...</td>\n",
       "      <td>Transparency</td>\n",
       "    </tr>\n",
       "    <tr>\n",
       "      <th>3</th>\n",
       "      <td>2.547220e+11</td>\n",
       "      <td>2.0</td>\n",
       "      <td>#NAME?</td>\n",
       "      <td>Customer_Service</td>\n",
       "    </tr>\n",
       "    <tr>\n",
       "      <th>4</th>\n",
       "      <td>2.547120e+11</td>\n",
       "      <td>9.0</td>\n",
       "      <td>#NAME?</td>\n",
       "      <td>Products_&amp;_Services</td>\n",
       "    </tr>\n",
       "  </tbody>\n",
       "</table>\n",
       "</div>"
      ],
      "text/plain": [
       "         commid  rating                                            comment  \\\n",
       "0  2.547120e+11    10.0   easy to access through phone, its everywhere ...   \n",
       "1  2.547120e+11    10.0   easy to access through phone, its everywhere ...   \n",
       "2  2.547120e+11    10.0   easy to access through phone, its everywhere ...   \n",
       "3  2.547220e+11     2.0                                             #NAME?   \n",
       "4  2.547120e+11     9.0                                             #NAME?   \n",
       "\n",
       "                  theme  \n",
       "0  Execution_Excellence  \n",
       "1   Products_&_Services  \n",
       "2          Transparency  \n",
       "3      Customer_Service  \n",
       "4   Products_&_Services  "
      ]
     },
     "execution_count": 24,
     "metadata": {},
     "output_type": "execute_result"
    }
   ],
   "source": [
    "csvdata = pd.read_csv('datasets/KCB-Themes_Data_V1 .csv')\n",
    "csvdata.head()"
   ]
  },
  {
   "cell_type": "code",
   "execution_count": 25,
   "metadata": {},
   "outputs": [
    {
     "data": {
      "text/html": [
       "<div>\n",
       "<style scoped>\n",
       "    .dataframe tbody tr th:only-of-type {\n",
       "        vertical-align: middle;\n",
       "    }\n",
       "\n",
       "    .dataframe tbody tr th {\n",
       "        vertical-align: top;\n",
       "    }\n",
       "\n",
       "    .dataframe thead th {\n",
       "        text-align: right;\n",
       "    }\n",
       "</style>\n",
       "<table border=\"1\" class=\"dataframe\">\n",
       "  <thead>\n",
       "    <tr style=\"text-align: right;\">\n",
       "      <th></th>\n",
       "      <th>commid</th>\n",
       "      <th>rating</th>\n",
       "      <th>comment</th>\n",
       "      <th>theme</th>\n",
       "      <th>clean_comments</th>\n",
       "    </tr>\n",
       "  </thead>\n",
       "  <tbody>\n",
       "    <tr>\n",
       "      <th>0</th>\n",
       "      <td>2.547120e+11</td>\n",
       "      <td>10.0</td>\n",
       "      <td>easy to access through phone, its everywhere ...</td>\n",
       "      <td>Execution_Excellence</td>\n",
       "      <td>easy to access through phone, its everywhere ...</td>\n",
       "    </tr>\n",
       "    <tr>\n",
       "      <th>1</th>\n",
       "      <td>2.547120e+11</td>\n",
       "      <td>10.0</td>\n",
       "      <td>easy to access through phone, its everywhere ...</td>\n",
       "      <td>Products_&amp;_Services</td>\n",
       "      <td>easy to access through phone, its everywhere ...</td>\n",
       "    </tr>\n",
       "    <tr>\n",
       "      <th>2</th>\n",
       "      <td>2.547120e+11</td>\n",
       "      <td>10.0</td>\n",
       "      <td>easy to access through phone, its everywhere ...</td>\n",
       "      <td>Transparency</td>\n",
       "      <td>easy to access through phone, its everywhere ...</td>\n",
       "    </tr>\n",
       "    <tr>\n",
       "      <th>3</th>\n",
       "      <td>2.547220e+11</td>\n",
       "      <td>2.0</td>\n",
       "      <td>#NAME?</td>\n",
       "      <td>Customer_Service</td>\n",
       "      <td>NAME</td>\n",
       "    </tr>\n",
       "    <tr>\n",
       "      <th>4</th>\n",
       "      <td>2.547120e+11</td>\n",
       "      <td>9.0</td>\n",
       "      <td>#NAME?</td>\n",
       "      <td>Products_&amp;_Services</td>\n",
       "      <td>NAME</td>\n",
       "    </tr>\n",
       "  </tbody>\n",
       "</table>\n",
       "</div>"
      ],
      "text/plain": [
       "         commid  rating                                            comment  \\\n",
       "0  2.547120e+11    10.0   easy to access through phone, its everywhere ...   \n",
       "1  2.547120e+11    10.0   easy to access through phone, its everywhere ...   \n",
       "2  2.547120e+11    10.0   easy to access through phone, its everywhere ...   \n",
       "3  2.547220e+11     2.0                                             #NAME?   \n",
       "4  2.547120e+11     9.0                                             #NAME?   \n",
       "\n",
       "                  theme                                     clean_comments  \n",
       "0  Execution_Excellence   easy to access through phone, its everywhere ...  \n",
       "1   Products_&_Services   easy to access through phone, its everywhere ...  \n",
       "2          Transparency   easy to access through phone, its everywhere ...  \n",
       "3      Customer_Service                                               NAME  \n",
       "4   Products_&_Services                                               NAME  "
      ]
     },
     "execution_count": 25,
     "metadata": {},
     "output_type": "execute_result"
    }
   ],
   "source": [
    "#Clean up the comments by removing everything that is not a letter, a number of punction\n",
    "\n",
    "z = lambda x: str(re.sub(\"[^a-zA-Z0-9\\s,!.]\", \"\", x)) #Clean up: replace everything that's not a number or a dot with a space\n",
    "csvdata['clean_comments'] = ([z(i) for i in  csvdata['comment']]) #Create a new column with clean data\n",
    "csvdata.head()"
   ]
  },
  {
   "cell_type": "code",
   "execution_count": 26,
   "metadata": {},
   "outputs": [
    {
     "data": {
      "text/html": [
       "<div>\n",
       "<style scoped>\n",
       "    .dataframe tbody tr th:only-of-type {\n",
       "        vertical-align: middle;\n",
       "    }\n",
       "\n",
       "    .dataframe tbody tr th {\n",
       "        vertical-align: top;\n",
       "    }\n",
       "\n",
       "    .dataframe thead th {\n",
       "        text-align: right;\n",
       "    }\n",
       "</style>\n",
       "<table border=\"1\" class=\"dataframe\">\n",
       "  <thead>\n",
       "    <tr style=\"text-align: right;\">\n",
       "      <th></th>\n",
       "      <th>commid</th>\n",
       "      <th>rating</th>\n",
       "      <th>comment</th>\n",
       "      <th>theme</th>\n",
       "      <th>clean_comments</th>\n",
       "      <th>theme_categories</th>\n",
       "    </tr>\n",
       "  </thead>\n",
       "  <tbody>\n",
       "    <tr>\n",
       "      <th>0</th>\n",
       "      <td>2.547120e+11</td>\n",
       "      <td>10.0</td>\n",
       "      <td>easy to access through phone, its everywhere ...</td>\n",
       "      <td>Execution_Excellence</td>\n",
       "      <td>easy to access through phone, its everywhere ...</td>\n",
       "      <td>1</td>\n",
       "    </tr>\n",
       "    <tr>\n",
       "      <th>1</th>\n",
       "      <td>2.547120e+11</td>\n",
       "      <td>10.0</td>\n",
       "      <td>easy to access through phone, its everywhere ...</td>\n",
       "      <td>Products_&amp;_Services</td>\n",
       "      <td>easy to access through phone, its everywhere ...</td>\n",
       "      <td>2</td>\n",
       "    </tr>\n",
       "    <tr>\n",
       "      <th>2</th>\n",
       "      <td>2.547120e+11</td>\n",
       "      <td>10.0</td>\n",
       "      <td>easy to access through phone, its everywhere ...</td>\n",
       "      <td>Transparency</td>\n",
       "      <td>easy to access through phone, its everywhere ...</td>\n",
       "      <td>4</td>\n",
       "    </tr>\n",
       "    <tr>\n",
       "      <th>3</th>\n",
       "      <td>2.547220e+11</td>\n",
       "      <td>2.0</td>\n",
       "      <td>#NAME?</td>\n",
       "      <td>Customer_Service</td>\n",
       "      <td>NAME</td>\n",
       "      <td>0</td>\n",
       "    </tr>\n",
       "    <tr>\n",
       "      <th>4</th>\n",
       "      <td>2.547120e+11</td>\n",
       "      <td>9.0</td>\n",
       "      <td>#NAME?</td>\n",
       "      <td>Products_&amp;_Services</td>\n",
       "      <td>NAME</td>\n",
       "      <td>2</td>\n",
       "    </tr>\n",
       "  </tbody>\n",
       "</table>\n",
       "</div>"
      ],
      "text/plain": [
       "         commid  rating                                            comment  \\\n",
       "0  2.547120e+11    10.0   easy to access through phone, its everywhere ...   \n",
       "1  2.547120e+11    10.0   easy to access through phone, its everywhere ...   \n",
       "2  2.547120e+11    10.0   easy to access through phone, its everywhere ...   \n",
       "3  2.547220e+11     2.0                                             #NAME?   \n",
       "4  2.547120e+11     9.0                                             #NAME?   \n",
       "\n",
       "                  theme                                     clean_comments  \\\n",
       "0  Execution_Excellence   easy to access through phone, its everywhere ...   \n",
       "1   Products_&_Services   easy to access through phone, its everywhere ...   \n",
       "2          Transparency   easy to access through phone, its everywhere ...   \n",
       "3      Customer_Service                                               NAME   \n",
       "4   Products_&_Services                                               NAME   \n",
       "\n",
       "   theme_categories  \n",
       "0                 1  \n",
       "1                 2  \n",
       "2                 4  \n",
       "3                 0  \n",
       "4                 2  "
      ]
     },
     "execution_count": 26,
     "metadata": {},
     "output_type": "execute_result"
    }
   ],
   "source": [
    "#Add an extra column for themes as a category\n",
    "#Label encoding to represent each of the theme classes as numbers\n",
    "theme_categories = csvdata['theme'].astype('category') #1. We first convert the column into a category\n",
    "csvdata['theme_categories']  = theme_categories.cat.codes #2. assign the encoded variable to a new column using the cat.codes\n",
    "target_names = list(theme_categories.cat.categories)\n",
    "csvdata.head()"
   ]
  },
  {
   "cell_type": "code",
   "execution_count": 27,
   "metadata": {},
   "outputs": [
    {
     "data": {
      "text/plain": [
       "Customer_Service           31166\n",
       "Execution_Excellence       17484\n",
       "Products_&_Services        15399\n",
       "Value_for_Money            10503\n",
       "Transparency                7099\n",
       "Relationship_Management     2855\n",
       "Name: theme, dtype: int64"
      ]
     },
     "execution_count": 27,
     "metadata": {},
     "output_type": "execute_result"
    }
   ],
   "source": [
    "# df = pd.Series(csvdata)\n",
    "# df.describe()\n",
    "\n",
    "csvdata.describe()\n",
    "csvdata['theme'].value_counts()\n"
   ]
  },
  {
   "cell_type": "code",
   "execution_count": 28,
   "metadata": {},
   "outputs": [
    {
     "data": {
      "text/plain": [
       "(['Customer_Service',\n",
       "  'Execution_Excellence',\n",
       "  'Products_&_Services',\n",
       "  'Relationship_Management',\n",
       "  'Transparency',\n",
       "  'Value_for_Money'],\n",
       " 6)"
      ]
     },
     "execution_count": 28,
     "metadata": {},
     "output_type": "execute_result"
    }
   ],
   "source": [
    "target_names, len(target_names)"
   ]
  },
  {
   "cell_type": "code",
   "execution_count": 29,
   "metadata": {},
   "outputs": [],
   "source": [
    "processed_data = {}\n",
    "\n",
    "for row in csvdata.iterrows():\n",
    "    if row[1]['comment']  in processed_data.keys():  \n",
    "        processed_data[row[1]['comment']].append(row[1]['theme_categories'])\n",
    "    else:\n",
    "        processed_data[row[1]['comment']] = [row[1]['theme_categories']]\n",
    "        \n"
   ]
  },
  {
   "cell_type": "code",
   "execution_count": 30,
   "metadata": {},
   "outputs": [
    {
     "data": {
      "text/plain": [
       "(50714, 6)"
      ]
     },
     "execution_count": 30,
     "metadata": {},
     "output_type": "execute_result"
    }
   ],
   "source": [
    "my_data = {}\n",
    "my_data['data'] = processed_data.keys()\n",
    "my_data['target'] = processed_data.values()\n",
    "\n",
    "X = my_data['data']\n",
    "y = MultiLabelBinarizer().fit_transform(processed_data.values())\n",
    "y.shape\n"
   ]
  },
  {
   "cell_type": "code",
   "execution_count": 31,
   "metadata": {},
   "outputs": [],
   "source": [
    "X_train, X_test, y_train, y_test = train_test_split(X, y, test_size=0.30, random_state=42,shuffle=True )"
   ]
  },
  {
   "cell_type": "markdown",
   "metadata": {},
   "source": [
    "Try out some classifiers:\n",
    "1. Logistic Regression\n",
    "2. Random Forest\n",
    "3. SVM\n",
    "4. Multinomial Naives Bayes\n",
    "5. XGBoost\n",
    "\n",
    "### Logistic Regression Classifier"
   ]
  },
  {
   "cell_type": "code",
   "execution_count": 32,
   "metadata": {},
   "outputs": [
    {
     "name": "stdout",
     "output_type": "stream",
     "text": [
      "... Processing\n",
      "Test accuracy is 0.919750246467\n"
     ]
    }
   ],
   "source": [
    "from sklearn.linear_model import LogisticRegression\n",
    "\n",
    "LogReg_pipeline = Pipeline([\n",
    "                ('tfidf', TfidfVectorizer(stop_words=stop_words)),\n",
    "                ('clf', OneVsRestClassifier(LogisticRegression(solver='sag'), n_jobs=1)),\n",
    "            ])\n",
    "print('... Processing')\n",
    "LogReg_pipeline.fit(X_train, y_train)\n",
    "# compute the testing accuracy\n",
    "prediction = LogReg_pipeline.predict(X_test)\n",
    "print('Test accuracy is {}'.format(accuracy_score(y_test, prediction)))\n"
   ]
  },
  {
   "cell_type": "markdown",
   "metadata": {},
   "source": [
    "### Random Forest Classifier"
   ]
  },
  {
   "cell_type": "code",
   "execution_count": 33,
   "metadata": {},
   "outputs": [],
   "source": [
    "from sklearn.ensemble import RandomForestClassifier\n",
    "from sklearn.datasets import make_classification\n"
   ]
  },
  {
   "cell_type": "code",
   "execution_count": 34,
   "metadata": {},
   "outputs": [
    {
     "name": "stdout",
     "output_type": "stream",
     "text": [
      "... Processing\n",
      "Test accuracy is 0.859217877095\n"
     ]
    }
   ],
   "source": [
    "RandomForest_pipeline = Pipeline([\n",
    "                ('tfidf', TfidfVectorizer(stop_words=stop_words)),\n",
    "                ('clf', OneVsRestClassifier(RandomForestClassifier(max_depth=150, random_state=0), n_jobs=1)),\n",
    "            ])\n",
    "print('... Processing')\n",
    "RandomForest_pipeline.fit(X_train, y_train)\n",
    "# compute the testing accuracy\n",
    "prediction = RandomForest_pipeline.predict(X_test)\n",
    "print('Test accuracy is {}'.format(accuracy_score(y_test, prediction)))"
   ]
  },
  {
   "cell_type": "markdown",
   "metadata": {},
   "source": [
    "### SVM Classifier"
   ]
  },
  {
   "cell_type": "code",
   "execution_count": 35,
   "metadata": {},
   "outputs": [
    {
     "name": "stdout",
     "output_type": "stream",
     "text": [
      "... Processing\n",
      "Test accuracy is 0.246795925074\n"
     ]
    }
   ],
   "source": [
    "from sklearn import svm\n",
    "\n",
    "SVM_pipeline = Pipeline([\n",
    "                ('tfidf', TfidfVectorizer(stop_words=stop_words)),\n",
    "                ('clf', OneVsRestClassifier(svm.SVC(decision_function_shape='ovo'), n_jobs=1)),\n",
    "            ])\n",
    "print('... Processing')\n",
    "SVM_pipeline.fit(X_train, y_train)\n",
    "# compute the testing accuracy\n",
    "prediction = SVM_pipeline.predict(X_test)\n",
    "print('Test accuracy is {}'.format(accuracy_score(y_test, prediction)))\n"
   ]
  },
  {
   "cell_type": "markdown",
   "metadata": {},
   "source": [
    "### Naives Bayes Classifier"
   ]
  },
  {
   "cell_type": "code",
   "execution_count": 36,
   "metadata": {},
   "outputs": [
    {
     "name": "stdout",
     "output_type": "stream",
     "text": [
      "... Processing\n",
      "Test accuracy is 0.608544199803\n"
     ]
    }
   ],
   "source": [
    "from sklearn.naive_bayes import MultinomialNB\n",
    "Naives_pipeline = Pipeline([\n",
    "                ('tfidf', TfidfVectorizer(stop_words=stop_words)),\n",
    "                ('clf', OneVsRestClassifier(MultinomialNB(), n_jobs=1)),\n",
    "            ])\n",
    "print('... Processing')\n",
    "Naives_pipeline.fit(X_train, y_train)\n",
    "# compute the testing accuracy\n",
    "prediction = Naives_pipeline.predict(X_test)\n",
    "print('Test accuracy is {}'.format(accuracy_score(y_test, prediction)))"
   ]
  },
  {
   "cell_type": "markdown",
   "metadata": {},
   "source": [
    "#### XGBoost Classifier"
   ]
  },
  {
   "cell_type": "code",
   "execution_count": 37,
   "metadata": {},
   "outputs": [
    {
     "name": "stdout",
     "output_type": "stream",
     "text": [
      "... Processing\n",
      "Test accuracy is 0.866053236937\n"
     ]
    }
   ],
   "source": [
    "classes = len(csvdata['theme'].unique())#number of classes\n",
    "reg_lambda = 2 #XG Boost's L2 regularization term on weights, increasing it makes the model more conservative.default=1\n",
    "\n",
    "\n",
    "XGB_pipeline = Pipeline([\n",
    "                ('tfidf', TfidfVectorizer(stop_words=stop_words)),\n",
    "                ('clf', OneVsRestClassifier(\n",
    "                    XGBClassifier(                  \n",
    "                        objective = \"multi:softmax\", \n",
    "                        seed =27,\n",
    "                        reg_lambda=reg_lambda,\n",
    "                        num_class = classes\n",
    "                ), n_jobs=1)),\n",
    "            ])\n",
    "print('... Processing')\n",
    "XGB_pipeline.fit(X_train, y_train)\n",
    "# compute the testing accuracy\n",
    "prediction = XGB_pipeline.predict(X_test)\n",
    "print('Test accuracy is {}'.format(accuracy_score(y_test, prediction)))\n"
   ]
  },
  {
   "cell_type": "markdown",
   "metadata": {},
   "source": [
    "### Validation"
   ]
  },
  {
   "cell_type": "code",
   "execution_count": 38,
   "metadata": {},
   "outputs": [
    {
     "name": "stdout",
     "output_type": "stream",
     "text": [
      "\n",
      "'Make me understand, why are there 2 teller on duty at kikuyu kcb bank,av been here for close to 1 hr waiting and the lobby is almost full?' ===> ['Customer_Service', 'Execution_Excellence']\n",
      "\n",
      "'I received a text of qualifying for loan but every time I request there are incoveniences' ===> ['Execution_Excellence']\n",
      "\n",
      "'I misplaced my ATM' ===> ['Products_&_Services']\n",
      "\n",
      "\"I am one dissapointed customer lately.Every time I transfer money from Mpesa to my account the transaction is not completed,meaning this cash doesn't hit my account\" ===> ['Execution_Excellence', 'Products_&_Services', 'Value_for_Money']\n",
      "\n",
      "'CB mobile app disappointing at its best and when you least expect it. The error message that keeps popping out is not funny' ===> ['Products_&_Services']\n",
      "\n",
      "\"Your service is soooooo slow, went to Karen branch no movement for 30 minutes then since was getting late decided to try your ongata Rongai branch, let's just say been here 1 hour but alas....... I hope never to need to visit your branch again in the near future.\" ===> ['Customer_Service', 'Products_&_Services']\n"
     ]
    }
   ],
   "source": [
    "#Validation using the best classifier \n",
    "comment1 = 'Make me understand, why are there 2 teller on duty at kikuyu kcb bank,av been here for close to 1 hr waiting and the lobby is almost full?' #\n",
    "comment2 = 'I received a text of qualifying for loan but every time I request there are incoveniences'\n",
    "comment3 = 'I misplaced my ATM'\n",
    "comment4 = 'I am one dissapointed customer lately.Every time I transfer money from Mpesa to my account the transaction is not completed,meaning this cash doesn\\'t hit my account'\n",
    "comment5 = 'CB mobile app disappointing at its best and when you least expect it. The error message that keeps popping out is not funny'\n",
    "comment6 = \"Your service is soooooo slow, went to Karen branch no movement for 30 minutes then since was getting late decided to try your ongata Rongai branch, let's just say been here 1 hour but alas....... I hope never to need to visit your branch again in the near future.\"\n",
    "\n",
    "\n",
    "comments_new = [comment1,comment2,comment3,comment4, comment5, comment6]\n",
    "\n",
    "\n",
    "predicted = LogReg_pipeline.predict(comments_new)\n",
    "predicted = pd.DataFrame(predicted, columns=target_names)\n",
    "\n",
    "predicted\n",
    "   \n",
    "\n",
    "for tw, category in zip(comments_new, predicted.iterrows()):\n",
    "    themes=[]\n",
    "    for i in range(len(category[1])) :\n",
    "        if category[1][i] == 1:\n",
    "            themes.append(target_names[i])\n",
    "    print('\\n%r ===> %s' % (tw, themes))\n"
   ]
  },
  {
   "cell_type": "markdown",
   "metadata": {},
   "source": [
    "#### Model Persistence"
   ]
  },
  {
   "cell_type": "code",
   "execution_count": 19,
   "metadata": {},
   "outputs": [],
   "source": [
    "filename = 'KCB.sav'\n",
    "pickle.dump(LogReg_pipeline, open(filename, 'wb'))"
   ]
  },
  {
   "cell_type": "code",
   "execution_count": null,
   "metadata": {},
   "outputs": [],
   "source": []
  }
 ],
 "metadata": {
  "anaconda-cloud": {},
  "kernelspec": {
   "display_name": "Python 2",
   "language": "python",
   "name": "python2"
  },
  "language_info": {
   "codemirror_mode": {
    "name": "ipython",
    "version": 2
   },
   "file_extension": ".py",
   "mimetype": "text/x-python",
   "name": "python",
   "nbconvert_exporter": "python",
   "pygments_lexer": "ipython2",
   "version": "2.7.15"
  }
 },
 "nbformat": 4,
 "nbformat_minor": 1
}
